{
 "cells": [
  {
   "cell_type": "code",
   "execution_count": null,
   "metadata": {},
   "outputs": [],
   "source": [
    "#################### Perfect final working code\n",
    "import pandas as pd\n",
    "from reportlab.pdfgen import canvas\n",
    "from reportlab.lib.units import cm\n",
    "from reportlab.graphics.barcode import code128\n",
    "\n",
    "def generate_barcodes_from_csv(csv_file, output_pdf):\n",
    "    # Read the CSV file\n",
    "    df = pd.read_csv(csv_file)\n",
    "\n",
    "    # Get the list of IDs from the first column\n",
    "    barcodes = df.iloc[:, 0].tolist()\n",
    "\n",
    "    # Create a canvas for the PDF\n",
    "    c = canvas.Canvas(output_pdf, pagesize=(7.5*cm, 9.5*cm))\n",
    "\n",
    "    barcode_width = 1.5*cm  # Set the barcode width\n",
    "    barcode_height = 0.12*cm  # Set the barcode height\n",
    "    x_spacing = 0.33*cm  # Set the horizontal spacing between barcodes\n",
    "    y_spacing = 0.92*cm  # Set the vertical spacing between rows\n",
    "    page_width = 6*cm\n",
    "    page_height = 7*cm\n",
    "    x_start = (page_width - (4 * barcode_width + x_spacing)) / 2 - 0.30*cm  # Adjusted to move left\n",
    "    y_start = 8.6*cm  # Starting y-coordinate for the first row\n",
    "\n",
    "    for i in range(0, len(barcodes), 40):\n",
    "        x, y = x_start, y_start\n",
    "\n",
    "        for j, barcode_data in enumerate(barcodes[i:i+40]):\n",
    "            # Optimize barcode width for better clarity while keeping the height same\n",
    "            barcode = code128.Code128(barcode_data, barWidth=0.43, barHeight=5.7)  # Slightly increased barWidth for better clarity\n",
    "            barcode.drawOn(c, x, y - barcode_height)\n",
    "            text_width = c.stringWidth(barcode_data, \"Helvetica-Bold\", 8)  # Get the width of the text with font size 8\n",
    "            text_x = x + (barcode_width - text_width) / 2 +0.5*cm # Calculate the x-coordinate to center the text\n",
    "            c.setFont(\"Helvetica-Bold\", 5.6)  # Set the font to bold\n",
    "            c.drawString(text_x, y - barcode_height - 0.17*cm, barcode_data)  # Write barcode ID below the barcode\n",
    "            x += barcode_width + x_spacing  # Move to the next barcode position\n",
    "            if (j + 1) % 4 == 0:\n",
    "                x = x_start\n",
    "                y -= y_spacing  # Move to the next row\n",
    "\n",
    "        if i + 40 < len(barcodes):\n",
    "            c.showPage()  # Add a new page if there are more barcodes to process\n",
    "\n",
    "    c.save()\n",
    "    print(f\"PDF saved as {output_pdf}\")\n",
    "\n",
    "# Example usage\n",
    "output_pdf = 'Day_5_IICB.pdf'  # Name of the output PDF file\n",
    "generate_barcodes_from_csv('Day_5_IICB_Multiple.csv', output_pdf)\n"
   ]
  }
 ],
 "metadata": {
  "language_info": {
   "name": "python"
  }
 },
 "nbformat": 4,
 "nbformat_minor": 2
}
